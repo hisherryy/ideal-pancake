{
 "cells": [
  {
   "cell_type": "markdown",
   "id": "b5e9665b",
   "metadata": {},
   "source": [
    "# SOCCER GAME DATABASE"
   ]
  },
  {
   "cell_type": "markdown",
   "id": "f544c493",
   "metadata": {},
   "source": [
    "# SQL DATABASE"
   ]
  },
  {
   "cell_type": "code",
   "execution_count": 4,
   "id": "cb2f100c",
   "metadata": {},
   "outputs": [],
   "source": [
    "# Import library\n",
    "import sqlite3"
   ]
  },
  {
   "cell_type": "code",
   "execution_count": 6,
   "id": "ea09af9b",
   "metadata": {},
   "outputs": [],
   "source": [
    "# Connect to the Database - Change to own path\n",
    "# Example of path: 'S:\\\\SQLite\\\\Week 3\\\\XXX.db'\n",
    "conn=sqlite3.connect(\"S:\\\\RDBMS\\\\SQL.db\")\n",
    "cur=conn.cursor()"
   ]
  },
  {
   "cell_type": "code",
   "execution_count": 7,
   "id": "e9f5c030",
   "metadata": {},
   "outputs": [
    {
     "name": "stdout",
     "output_type": "stream",
     "text": [
      "<class 'sqlite3.Connection'>\n"
     ]
    }
   ],
   "source": [
    "print(type(conn))"
   ]
  },
  {
   "cell_type": "code",
   "execution_count": 8,
   "id": "bf58fe7e",
   "metadata": {},
   "outputs": [
    {
     "name": "stdout",
     "output_type": "stream",
     "text": [
      "Table created successfully\n"
     ]
    }
   ],
   "source": [
    "# Create a new table called COUNTRY_LEAGUE\n",
    "\n",
    "qry='''\n",
    "CREATE TABLE COUNTRY_LEAGUE (\n",
    "        LEAGUE_ID INTEGER   PRIMARY KEY,\n",
    "        COUNTRY   TEXT (5),\n",
    "        LEAGUE_NAME TEXT (5)\n",
    ");\n",
    "'''\n",
    "try:\n",
    "        cur.execute(qry)\n",
    "        print ('Table created successfully')\n",
    "except:\n",
    "# If table already exists then use the SQLite console to connect to the database (BEMM459.db) and then use the drop table command.\n",
    "# .. Altenatively, use the SQLiteStudio GUI to delete table ECC_DEPARTMENT and execute this code block again.\n",
    "        print ('Error in creating table')\n",
    "        \n",
    "        # Use the next statement with extreme caution as both table and data will be lost\n",
    "        cur.execute(\"DROP TABLE IF EXISTS ECC_DEPARTMENT;\")"
   ]
  },
  {
   "cell_type": "code",
   "execution_count": 9,
   "id": "4c40936e",
   "metadata": {},
   "outputs": [
    {
     "name": "stdout",
     "output_type": "stream",
     "text": [
      "Tables created successfully\n"
     ]
    }
   ],
   "source": [
    "# Create 5 tables using the method executescript() that is defined in the cursor class.\n",
    "qry='''\n",
    "CREATE TABLE TEAM (\n",
    "        TEAM_ID INTEGER   PRIMARY KEY,\n",
    "        TEAM_LONG_NAME   TEXT (15),\n",
    "        TEAM_SHORT_NAME  TEXT (15),\n",
    "        LEAGUE_NAME TEXT (15) REFERENCES COUNTRY_LEAGUE(LEAGUE_NAME)\n",
    "    );\n",
    "CREATE TABLE TEAM_ATTRIBUTES (\n",
    "        TEAM_ID INTEGER   PRIMARY KEY REFERENCES TEAM(TEAM_ID),\n",
    "        ATTACKING_RATING   INTEGER,\n",
    "        MIDFIELD_RATING   INTEGER,\n",
    "        DEFFENSIVE_RATING INTEGER \n",
    "    );\n",
    "CREATE TABLE PLAYER (\n",
    "        PLAYER_ID     INTEGER     PRIMARY KEY,\n",
    "        PLAYER_NAME TEXT (75),\n",
    "        BIRTHDAY TEXT (75),\n",
    "        HEIGHT INTEGER,\n",
    "        WEIGHT INTEGER,\n",
    "        TEAM_ID INTEGER REFERENCES TEAM(TEAM_ID)\n",
    "    );\n",
    "CREATE TABLE PLAYER_ATTRIBUTES (\n",
    "       PLAYER_ID     INTEGER     PRIMARY KEY REFERENCES PLAYER(PLAYER_ID),\n",
    "       PLAYER_NAME TEXT (75),\n",
    "       OVERALL_RATING INTEGER,\n",
    "       POTENTIAL INTEGER,\n",
    "       ATTACKING_RATING INTEGER,\n",
    "       DEFENSIVE_RATING INTEGER\n",
    "    );\n",
    "CREATE TABLE MATCH (\n",
    "       MATCH_ID     INTEGER     PRIMARY KEY,\n",
    "       LEAGUE_ID INTEGER REFERENCES COUNTRY_LEAGUE(LEAGUE_ID),\n",
    "       DATE TEXT (30),\n",
    "       STADIUM TEXT (30),\n",
    "       HOME_TEAM_SHORT_NAME TEXT (30),\n",
    "       AWAY_TEAM_SHORT_NAME TEXT (30)\n",
    "    );    \n",
    "'''\n",
    "try:\n",
    "        cur.executescript(qry)\n",
    "        print ('Tables created successfully')\n",
    "except:\n",
    "        print ('Error in creating tables')"
   ]
  },
  {
   "cell_type": "code",
   "execution_count": 10,
   "id": "e5272c70",
   "metadata": {},
   "outputs": [],
   "source": [
    "# Define a function to list all tables in the database\n",
    "def tables_in_sqlite_db(conn):\n",
    "    cursor = conn.execute(\"SELECT name FROM sqlite_master WHERE type='table';\")\n",
    "    tables = [\n",
    "        v[0] for v in cursor.fetchall()\n",
    "        if v[0] != \"sqlite_sequence\"\n",
    "    ]\n",
    "    cursor.close()\n",
    "    return tables"
   ]
  },
  {
   "cell_type": "code",
   "execution_count": 11,
   "id": "73231951",
   "metadata": {},
   "outputs": [
    {
     "name": "stdout",
     "output_type": "stream",
     "text": [
      "['COUNTRY_LEAGUE', 'TEAM', 'TEAM_ATTRIBUTES', 'PLAYER', 'PLAYER_ATTRIBUTES', 'MATCH']\n"
     ]
    }
   ],
   "source": [
    "# check to see if all the new table are created\n",
    "tables = tables_in_sqlite_db(conn)\n",
    "\n",
    "#print tables in the current database\n",
    "print(tables)"
   ]
  },
  {
   "cell_type": "code",
   "execution_count": 34,
   "id": "093f69c3",
   "metadata": {},
   "outputs": [
    {
     "name": "stdout",
     "output_type": "stream",
     "text": [
      "Records inserted successfully..committed\n"
     ]
    }
   ],
   "source": [
    "# Insert multiple records in table COUNTRY_LEAGUE\n",
    "qry=\"insert into COUNTRY_LEAGUE (LEAGUE_ID,COUNTRY,LEAGUE_NAME) values (?,?,?);\"\n",
    "leaguelist=[(1729,'England','England Premier League'),\n",
    "            (4769, 'France','France League 1'),\n",
    "            (7809,'Germany', 'Germany Bundesliga'),\n",
    "            (10257,'Italy', 'Italy Serie A'),\n",
    "            (21518,'Spain', 'Spain LIGA BBVA')]\n",
    "\n",
    "try:\n",
    "        cur.executemany(qry, leaguelist)\n",
    "        conn.commit()\n",
    "        print ('Records inserted successfully..committed')\n",
    "except:\n",
    "        print ('Error in insert operation..rollback')\n",
    "        conn.rollback()"
   ]
  },
  {
   "cell_type": "code",
   "execution_count": 35,
   "id": "b4c4e99e",
   "metadata": {},
   "outputs": [
    {
     "name": "stdout",
     "output_type": "stream",
     "text": [
      "Records inserted successfully..committed\n"
     ]
    }
   ],
   "source": [
    "# Insert multiple records in table TEAM\n",
    "qry=\"insert into TEAM (TEAM_ID,TEAM_LONG_NAME,TEAM_SHORT_NAME,LEAGUE_NAME) values (?,?,?,?);\"\n",
    "teamlist=[(9,'Liverpool','LIV','England Premier League'),\n",
    "          (10, 'Manchester City','MCI','England Premier League'),\n",
    "          (11,'Manchester United', 'MUN','England Premier League'),\n",
    "          (66,'Olympique Lyonnais', 'LYO','France League 1'),\n",
    "          (69,'AS Monaco', 'MON','France League 1'),\n",
    "          (73,'Paris Saint-Germain', 'PSG','France League 1'),\n",
    "          (21,'FC Bayern Munich', 'BMU','Germany Bundesliga'),\n",
    "          (22,'Borussia Dortmund', 'DOR','Germany Bundesliga'),\n",
    "          (32,'Bayer 04 Leverkusen', 'LEV','Germany Bundesliga'),\n",
    "          (44,'Inter', 'INT','Italy Serie A'),\n",
    "          (45,'Juventus', 'JUV','Italy Serie A'),\n",
    "          (47,'Milan', 'ACM','Italy Serie A'),\n",
    "          (240,'Atletico Madrid', 'AMA','Spain LIGA BBVA'),\n",
    "          (241,'FC Barcelona', 'BAR','Spain LIGA BBVA'),\n",
    "          (243,'Real Madrid CF', 'REA','Spain LIGA BBVA')]\n",
    "\n",
    "try:\n",
    "        cur.executemany(qry, teamlist)\n",
    "        conn.commit()\n",
    "        print ('Records inserted successfully..committed')\n",
    "except:\n",
    "        print ('Error in insert operation..rollback')\n",
    "        conn.rollback()"
   ]
  },
  {
   "cell_type": "code",
   "execution_count": 36,
   "id": "9b3f6d34",
   "metadata": {},
   "outputs": [
    {
     "name": "stdout",
     "output_type": "stream",
     "text": [
      "Records inserted successfully..committed\n"
     ]
    }
   ],
   "source": [
    "# Insert multiple records in table TEAM_ATTRIBUTES\n",
    "qry=\"insert into TEAM_ATTRIBUTES (TEAM_ID,ATTACKING_RATING,MIDFIELD_RATING,DEFFENSIVE_RATING) values (?,?,?,?);\"\n",
    "teamattributes=[(9,86,83,80),\n",
    "                (10, 85,86,83),\n",
    "                (11,83,82,82),\n",
    "                (66,79,79,77),\n",
    "                (69,79,77,77),\n",
    "                (73,87,82,82),\n",
    "                (21,92,85,82),\n",
    "                (22,87,81,81),\n",
    "                (32,74,75,72),\n",
    "                (44,83,81,83),\n",
    "                (45,87,81,83),\n",
    "                (47,84,78,80),\n",
    "                (240,85,82,83),\n",
    "                (241,84,82,81),\n",
    "                (243,84,86,84)]\n",
    "\n",
    "try:\n",
    "        cur.executemany(qry, teamattributes)\n",
    "        conn.commit()\n",
    "        print ('Records inserted successfully..committed')\n",
    "except:\n",
    "        print ('Error in insert operation..rollback')\n",
    "        conn.rollback()"
   ]
  },
  {
   "cell_type": "code",
   "execution_count": 37,
   "id": "91ad2598",
   "metadata": {},
   "outputs": [
    {
     "name": "stdout",
     "output_type": "stream",
     "text": [
      "Records inserted successfully..committed\n"
     ]
    }
   ],
   "source": [
    "# Insert multiple records in table PLAYER\n",
    "qry=\"insert into PLAYER (PLAYER_ID,PLAYER_NAME,BIRTHDAY,HEIGHT,WEIGHT,TEAM_ID) values (?,?,?,?,?,?);\"\n",
    "playerlists=[(209331,'Mohamed Salah','1992/6/15',175.26,159,9),\n",
    "             (198784,'Alex Oxlade-Chamberlain','1992/6/15',175.26,154,9),\n",
    "             (193348,'Xherdan Shaqiri','1991/10/10',170.18,159,9),\n",
    "             (208722,'Sadio Mane','1992/4/10',175.26,165,9),\n",
    "             (201942,'Roberto Firmino','1991/10/2',180.34,168,9),\n",
    "             (202654,'Raheem Sterling','1994/12/8',170.18,152,10),\n",
    "             (192985,'Kevin De Bruyne','1991/6/28',180.34,168,10),\n",
    "             (218667,'Bernardo Silva','1994/8/10',172.72,143,10),\n",
    "             (203574,'John Stones','1994/5/28',187.96,165,10),\n",
    "             (204884,'Benjamin Mendy','1994/7/17',185.42,165,10),\n",
    "             (20801,'Cristiano Ronaldo','1985/2/5',185.42,176,11),\n",
    "             (195864,'Paul Pogba','1993/3/15',190.5,185,11),\n",
    "             (207494,'Jesse Lingard','1992/12/15',175.26,143,11),\n",
    "             (231677,'Marcus Rashford','1997/10/31',180.34,154,11),\n",
    "             (193080,'David de Gea','1990/11/7',193.04,181,11),\n",
    "             (211591,'Moussa Dembele','1996/7/12',182.8,163,66),\n",
    "             (217699,'Islam Slimani','1988/6/18',187.96,185,66),\n",
    "             (215798,'Gnaly Maxwell Cornet','1996/9/27',177.8,152,66),\n",
    "             (216643,'Leo Dubois','1994/9/14',177.8,143,66),\n",
    "             (179789,'Damien Da Silva','1988/5/17',182.88,181,66),\n",
    "             (199451,'Wissam Ben Yedder','1990/8/12',170.18,150,69),\n",
    "             (200610,'Kevin Volland','1992/7/30',177.8,181,69),\n",
    "             (181820,'Stevan Jovetic','1989/11/2',182.88,174,69),\n",
    "             (162895,'Cesc Fabregas','1987/5/4',175.26,163,69),\n",
    "             (201042,'Djibril Sidibe','1992/7/29',182.88,161,69),\n",
    "             (158023,'Lionel Messi','1987/6/24',170.18,159,73),\n",
    "             (190871,'Neymar','1992/2/5',175.26,175.26,73),\n",
    "             (231747,'Kylian Mbappe Lottin','1998/12/20',177.8,148,73),\n",
    "             (183898,'Angel Di Maria','1988/2/14',180.34,165,73),\n",
    "             (155862,'Sergio Ramos','1986/3/30',182.88,165,73),\n",
    "             (188545,'Robert Lewandowski','1988/8/21',185.42,174,21),\n",
    "             (167495,'Manuel Neuer','1986/3/27',193.04,203,21),\n",
    "             (213345,'Kingsley Coman','1996/6/13',177.8,157,21),\n",
    "             (212622,'Joshua Kimmich','1995/2/8',175.26,154,21),\n",
    "             (197445,'David Alaba','1992/6/24',180.34,168,21),\n",
    "             (188350,'Marco Reus','1989/5/3',180.34,165,22),\n",
    "             (209889,'Raphael Guerreiro','1993/12/22',170.18,148,22),\n",
    "             (178603,'Mats Hummels','1988/12/16',190.5,203,22),\n",
    "             (218339,'Mahmoud Dahoud','1996/1/1',177.8,148,22),\n",
    "             (183277,'Eden Hazard','1991/1/7',172.72,163,22),\n",
    "             (199042,'Charles Aranguiz','1989/4/17',170.18,154,32),\n",
    "             (189606,'Julian Baumgartlinger','1988/1/2',182.88,181,32),\n",
    "             (220633,'Demarai Gray','1996/6/28',177.8,146,32),\n",
    "             (206591,'Mitchell Weiser','1994/4/21',175.26,148,32),\n",
    "             (177458,'Sven Bender','1989/4/27',185.42,176,32),\n",
    "             (184941,'Alexis Sanchez','1988/12/19',170.18,137,44),\n",
    "             (216352,'Marcelo Brozovic','1992/11/16',180.34,150,44),\n",
    "             (219985,'Matias Vecino','1991/8/24',187.96,179,44),\n",
    "             (224232,'Nicolo Barella','1997/2/7',172.72,150,44),\n",
    "             (190460,'Christian Eriksen','1992/2/14',177.8,157,44),\n",
    "             (211110,'Paulo Dybala','1993/11/15',175.26,161,45),\n",
    "             (201153,'lvaro Morata','1992/10/23',187.96,187,45),\n",
    "             (186561,'Aaron Ramsey','1990/12/26',177.8,154,45),\n",
    "             (179846,'Sami Khedira','1987/4/4',187.96,198,45),\n",
    "             (138956,'Giorgio Chiellini','1984/8/14',187.96,190,45),\n",
    "             (41236,'Zlatan Ibrahimovic','1981/10/3',195.58,209,47),\n",
    "             (220218,'Ante Rebic','1993/9/21',185.42,170,47),\n",
    "             (181783,'Mario Mandzukic','1986/5/21',190.5,187,47),\n",
    "             (208128,'Hakan Calhanoglu','1994/2/8',177.8,168,47),\n",
    "             (201179,'Antonio Donnarumma','1990/7/7',193.04,212,47),\n",
    "             (176580,'Luis Suarez','1987/1/24',182.88,187,240),\n",
    "             (213565,'Thomas Lemar','1995/11/12',170.18,128,240),\n",
    "             (208418,'Yannick Ferreira-Carrasco','1993/9/4',180.34,146,240),\n",
    "             (204639,'Stefan Savic','1991/1/8',185.42,161,240),\n",
    "             (200389,'Jan Oblak','1993/1/7',185.42,192,240),\n",
    "             (194765,'Antoine Griezmann','1991/3/21',175.26,148,241),\n",
    "             (153079,'Sergio Aguero','1988/6/2',172.72,163,241),\n",
    "             (189511,'Memphis Depay','1994/2/13',175.26,172,241),\n",
    "             (152792,'Sergio Busquets','1988/7/16',187.96,168,241),\n",
    "             (202556,'Gerard Pique','1987/2/2',193.04,187,241),\n",
    "             (165153,'Karim Benzema','1987/12/19',187.96,174,243),\n",
    "             (220834,'Marco Asensio','1996/1/21',177.8,154,243),\n",
    "             (177003,'Luka Modric','1985/9/9',175.26,143,243),\n",
    "             (182521,'Toni Kroos','1990/1/4',182.88,172,243),\n",
    "             (192119,'Thibaut Courtois','1992/5/11',198.12,194,243)]\n",
    "\n",
    "try:\n",
    "        cur.executemany(qry, playerlists)\n",
    "        conn.commit()\n",
    "        print ('Records inserted successfully..committed')\n",
    "except:\n",
    "        print ('Error in insert operation..rollback')\n",
    "        conn.rollback()"
   ]
  },
  {
   "cell_type": "code",
   "execution_count": 38,
   "id": "4c12cbed",
   "metadata": {},
   "outputs": [
    {
     "name": "stdout",
     "output_type": "stream",
     "text": [
      "Records inserted successfully..committed\n"
     ]
    }
   ],
   "source": [
    "# Insert multiple records in table PLAYER_ATTRIBUTES\n",
    "qry=\"insert into PLAYER_ATTRIBUTES (PLAYER_ID,PLAYER_NAME,OVERALL_RATING,POTENTIAL,ATTACKING_RATING,DEFENSIVE_RATING) values (?,?,?,?,?,?);\"\n",
    "playerattributes=[(209331,'Mohamed Salah',90,93,87,45),\n",
    "                  (198784,'Alex Oxlade-Chamberlain',78,82,74,67),\n",
    "                  (193348,'Xherdan Shaqiri',79,82,76,46),\n",
    "                  (208722,'Sadio Mane',88,89,83,44),\n",
    "                  (201942,'Roberto Firmino',85,89,78,61),\n",
    "                  (202654,'Raheem Sterling',87,92,80,45),\n",
    "                  (192985,'Kevin De Bruyne',91,93,86,64),\n",
    "                  (218667,'Bernardo Silva',86,91,83,54),\n",
    "                  (203574,'John Stones',82,83,51,83),\n",
    "                  (204884,'Benjamin Mendy',86,88,70,82),\n",
    "                  (20801,'Cristiano Ronaldo',92,93,93,35),\n",
    "                  (195864,'Paul Pogba',86,87,81,65),\n",
    "                  (207494,'Jesse Lingard',88,89,86,56),\n",
    "                  (231677,'Marcus Rashford',85,91,85,43),\n",
    "                  (193080,'David de Gea',86,88,57,89),\n",
    "                  (211591,'Moussa Dembele',78,81,72,72),\n",
    "                  (217699,'Islam Slimani',76,83,76,47),\n",
    "                  (215798,'Gnaly Maxwell Cornet',74,86,75,66),\n",
    "                  (216643,'Leo Dubois',78,83,59,76),\n",
    "                  (179789,'Damien Da Silva',81,86,75,66),\n",
    "                  (199451,'Wissam Ben Yedder',84,90,84,39),\n",
    "                  (200610,'Kevin Volland',82,85,85,41),\n",
    "                  (181820,'Stevan Jovetic',77,85,79,35),\n",
    "                  (162895,'Cesc Fabregas',76,87,81,62),\n",
    "                  (201042,'Djibril Sidibe',77,81,62,73),\n",
    "                  (158023,'Lionel Messi',93,98,92,38),\n",
    "                  (190871,'Neymar',91,97,85,36),\n",
    "                  (231747,'Kylian Mbappe Lottin',90,93,87,39),\n",
    "                  (183898,'Angel Di Maria',87,90,85,48),\n",
    "                  (155862,'Sergio Ramos',89,95,70,88),\n",
    "                  (188545,'Robert Lewandowski',92,96,92,44),\n",
    "                  (167495,'Manuel Neuer',90,95,56,92),\n",
    "                  (213345,'Kingsley Coman',86,91,85,30),\n",
    "                  (212622,'Joshua Kimmich',89,90,86,83),\n",
    "                  (197445,'David Alaba',83,90,70,83),\n",
    "                  (188350,'Marco Reus',84,88,84,46),\n",
    "                  (209889,'Raphael Guerreiro',83,88,77,83),\n",
    "                  (178603,'Mats Hummels',87,97,59,90),\n",
    "                  (218339,'Mahmoud Dahoud',78,82,75,64),\n",
    "                  (183277,'Eden Hazard',83,89,84,52),\n",
    "                  (199042,'Charles Aranguiz',81,83,81,76),\n",
    "                  (189606,'Julian Baumgartlinger',78,85,69,77),\n",
    "                  (220633,'Demarai Gray',75,82,80,37),\n",
    "                  (206591,'Mitchell Weiser',74,80,62,77),\n",
    "                  (177458,'Sven Bender',79,85,74,64),\n",
    "                  (184941,'Alexis Sanchez',80,84,84,44),\n",
    "                  (216352,'Marcelo Brozovic',84,88,80,79),\n",
    "                  (219985,'Matias Vecino',79,85,76,77),\n",
    "                  (224232,'Nicolo Barella',82,84,80,77),\n",
    "                  (190460,'Christian Eriksen',83,88,88,53),\n",
    "                  (211110,'Paulo Dybala',87,91,85,43),\n",
    "                  (201153,'lvaro Morata',83,87,80,31),\n",
    "                  (186561,'Aaron Ramsey',82,85,79,71),\n",
    "                  (179846,'Sami Khedira',84,87,82,75),\n",
    "                  (138956,'Giorgio Chiellini',86,89,46,89),\n",
    "                  (41236,'Zlatan Ibrahimovic',84,93,87,34),\n",
    "                  (220218,'Ante Rebic',79,88,80,39),\n",
    "                  (181783,'Mario Mandzukic',86,90,87,45),\n",
    "                  (208128,'Hakan Calhanoglu',81,89,83,59),\n",
    "                  (201179,'Antonio Donnarumma',86,95,52,89),\n",
    "                  (176580,'Luis Suarez',87,96,90,51),\n",
    "                  (213565,'Thomas Lemar',82,85,76,59),\n",
    "                  (208418,'Yannick Ferreira-Carrasco',83,87,81,45),\n",
    "                  (204639,'Stefan Savic',83,85,35,85),\n",
    "                  (200389,'Jan Oblak',91,96,50,92),\n",
    "                  (194765,'Antoine Griezmann',86,90,83,57),\n",
    "                  (153079,'Sergio Aguero',87,94,89,33),\n",
    "                  (189511,'Memphis Depay',83,89,83,36),\n",
    "                  (152792,'Sergio Busquets',86,89,81,82),\n",
    "                  (202556,'Gerard Pique',86,94,61,86),\n",
    "                  (165153,'Karim Benzema',89,91,85,40),\n",
    "                  (220834,'Marco Asensio',82,86,79,43),\n",
    "                  (177003,'Luka Modric',87,94,89,72),\n",
    "                  (182521,'Toni Kroos',88,96,91,71),\n",
    "                  (192119,'Thibaut Courtois',89,94,46,84)]\n",
    "\n",
    "try:\n",
    "        cur.executemany(qry, playerattributes)\n",
    "        conn.commit()\n",
    "        print ('Records inserted successfully..committed')\n",
    "except:\n",
    "        print ('Error in insert operation..rollback')\n",
    "        conn.rollback()"
   ]
  },
  {
   "cell_type": "code",
   "execution_count": 39,
   "id": "b54e9872",
   "metadata": {},
   "outputs": [
    {
     "name": "stdout",
     "output_type": "stream",
     "text": [
      "Records inserted successfully..committed\n"
     ]
    }
   ],
   "source": [
    "# Insert multiple records in table MATCH\n",
    "\n",
    "qry=\"insert into MATCH (MATCH_ID,LEAGUE_ID,DATE,STADIUM,HOME_TEAM_SHORT_NAME,AWAY_TEAM_SHORT_NAME) values (?,?,?,?,?,?);\"\n",
    "playerattributes=[(492582,1729,'2021/10/3','Anfield Stadium','LIV','MCI'),\n",
    "                  (492476,1729,'2022/4/9','Etihad Stadium','MCI','LIV'),\n",
    "                  (492580,1729,'2022/3/7','Etihad Stadium','MCI','MUN'),\n",
    "                  (492746,1729,'2021/11/6','Old Trafford','MUN','MCI'),\n",
    "                  (492749,1729,'2021/10/24','Old Trafford','MUN','LIV'),\n",
    "                  (492753,1729,'2022/3/21','Anfield Stadium','LIV','MUN'),\n",
    "                  (838642,4769,'2021/10/17','Gerland Stadium','LYO','MON'),\n",
    "                  (838669,4769,'2022/2/6','Louis II Stadium','MON','LYO'),\n",
    "                  (838681,4769,'2022/3/20','Louis II Stadium','MON','PSG'),\n",
    "                  (838701,4769,'2022/3/20','Parc des Princes','PSG','MON'),\n",
    "                  (838478,4769,'2021/9/20','Parc des Princes','PSG','LYO'),\n",
    "                  (838727,4769,'2022/1/10','Gerland Stadium','LYO','PSG'),\n",
    "                  (1032794,7809,'2021/12/5','Allianz Arena','BMU','DOR'),\n",
    "                  (1032798,7809,'2022/4/23','Signal Iduna Park','DOR','BMU'),\n",
    "                  (1032808,7809,'2022/2/6','Signal Iduna Park','DOR','LEV'),\n",
    "                  (1032821,7809,'2021/9/11','BayArena','LEV','DOR'),\n",
    "                  (1032835,7809,'2021/10/17','BayArena','LEV','BMU'),\n",
    "                  (1032849,7809,'2022/3/5','Allianz Arena','BMU','LEV'),\n",
    "                  (493096,10257,'2021/10/25','Stadio Giuseppe Meazza','INT','JUV'),\n",
    "                  (493100,10257,'2022/4/3','Juventus Arena','JUV','INT'),\n",
    "                  (493108,10257,'2021/9/20','Juventus Arena','JUV','ACM'),\n",
    "                  (492508,10257,'2022/1/24','San Siro','ACM','JUV'),\n",
    "                  (492522,10257,'2021/11/8','San Siro','ACM','INT'),\n",
    "                  (492527,10257,'2022/2/6','Stadio Giuseppe Meazza','INT','ACM'),\n",
    "                  (665325,21518,'2021/10/3','Wanda-Metropolitano','AMA','BAR'),\n",
    "                  (665430,21518,'2022/2/6','Nou Camp','BAR','AMA'),\n",
    "                  (665536,21518,'2021/10/24','Nou Camp','BAR','REA'),\n",
    "                  (665548,21518,'2022/3/21','Santiago Bernabeu','REA','BAR'),\n",
    "                  (665577,21518,'2021/12/13','Santiago Bernabeu','REA','AMA'),\n",
    "                  (665329,21518,'2022/5/9','Wanda-Metropolitano','AMA','REA')]\n",
    "\n",
    "try:\n",
    "        cur.executemany(qry, playerattributes)\n",
    "        conn.commit()\n",
    "        print ('Records inserted successfully..committed')\n",
    "except:\n",
    "        print ('Error in insert operation..rollback')\n",
    "        conn.rollback()"
   ]
  },
  {
   "cell_type": "code",
   "execution_count": 40,
   "id": "cc939bd4",
   "metadata": {},
   "outputs": [
    {
     "name": "stdout",
     "output_type": "stream",
     "text": [
      "(20801, 'Cristiano Ronaldo', '1985/2/5', 185.42, 176, 11)\n"
     ]
    }
   ],
   "source": [
    "# Query and display one record from PLAYER\n",
    "\n",
    "# Prepare the query String\n",
    "qry=\"select * from PLAYER;\"\n",
    "\n",
    "# Execute query on SQLite\n",
    "cur.execute(qry)\n",
    "\n",
    "# Fetch and display one row\n",
    "row=cur.fetchone()\n",
    "\n",
    "print (row)"
   ]
  },
  {
   "cell_type": "code",
   "execution_count": 41,
   "id": "e1441cfa",
   "metadata": {},
   "outputs": [
    {
     "name": "stdout",
     "output_type": "stream",
     "text": [
      "One record inserted successfully..commit\n"
     ]
    }
   ],
   "source": [
    "# Insert one record in table PLAYER\n",
    "\n",
    "qry=\"insert into PLAYER values (20000,'XIAOMING','1988/1/22',175.26,178,11);\"\n",
    "\n",
    "try:\n",
    "        cur.execute(qry)\n",
    "        conn.commit()\n",
    "        print ('One record inserted successfully..commit')\n",
    "except:\n",
    "        print ('Error in insert operation..rollback')\n",
    "        conn.rollback()\n",
    "        print(conn)"
   ]
  },
  {
   "cell_type": "code",
   "execution_count": 42,
   "id": "01b3197b",
   "metadata": {},
   "outputs": [
    {
     "name": "stdout",
     "output_type": "stream",
     "text": [
      "Enter name of PLAYER_NAME to delete:XIAOMING\n",
      "PLAYER deleted\n"
     ]
    }
   ],
   "source": [
    "# Delete record based on user input\n",
    "\n",
    "inputPLAYER_NAME=input('Enter name of PLAYER_NAME to delete:')\n",
    "qry='delete from PLAYER where PLAYER_NAME=?'\n",
    "try:\n",
    "        cur.execute(qry, (inputPLAYER_NAME,))\n",
    "        print ('PLAYER deleted')\n",
    "        conn.commit()\n",
    "except:\n",
    "        print ('Error in deleting PLAYER', inputPLAYER_NAME)\n",
    "        conn.rollback()"
   ]
  },
  {
   "cell_type": "code",
   "execution_count": 43,
   "id": "a8aa3fdc",
   "metadata": {},
   "outputs": [
    {
     "name": "stdout",
     "output_type": "stream",
     "text": [
      "Enter name of PLAYER_NAME to update:Cristiano Ronaldo\n",
      "Enter new PLAYER_ID:30100\n",
      "PLAYER name updated\n"
     ]
    }
   ],
   "source": [
    "# Update table based on user input\n",
    "\n",
    "inputPLAYER_NAME=input('Enter name of PLAYER_NAME to update:')\n",
    "inputPLAYER_ID=int(input('Enter new PLAYER_ID:'))\n",
    "\n",
    "qry='update PLAYER set PLAYER_ID=? where PLAYER_NAME=?'\n",
    "\n",
    "try:\n",
    "        cur.execute(qry, (inputPLAYER_NAME,inputPLAYER_ID))\n",
    "        print ('PLAYER name updated')\n",
    "        conn.commit()\n",
    "except:\n",
    "        print ('Error in update operation .. rollback')\n",
    "        conn.rollback()"
   ]
  },
  {
   "cell_type": "code",
   "execution_count": 4,
   "id": "0ae95d79",
   "metadata": {},
   "outputs": [],
   "source": [
    "# Close database connection\n",
    "conn.close()"
   ]
  },
  {
   "cell_type": "markdown",
   "id": "7598db97",
   "metadata": {},
   "source": [
    "---------"
   ]
  },
  {
   "cell_type": "markdown",
   "id": "739116fe",
   "metadata": {},
   "source": [
    "# NoSQL Database - Redis"
   ]
  },
  {
   "cell_type": "code",
   "execution_count": 2,
   "id": "21e9efc3",
   "metadata": {},
   "outputs": [
    {
     "name": "stdout",
     "output_type": "stream",
     "text": [
      "True\n"
     ]
    }
   ],
   "source": [
    "# Import packages\n",
    "import redis\n",
    "import xlrd\n",
    "\n",
    "# Main class Redis() which you use to execute Redis commands (the port and db=0 are default values)\n",
    "# Localhost = 127.0.0.1\n",
    "r = redis.Redis(host='localhost', port=6379, db=10)\n",
    "\n",
    "# Check database connection -will return true if successful\n",
    "print(r.ping())"
   ]
  },
  {
   "cell_type": "markdown",
   "id": "e7005867",
   "metadata": {},
   "source": [
    "# ***Shopping basket(hash)***"
   ]
  },
  {
   "cell_type": "markdown",
   "id": "e242b1fd",
   "metadata": {},
   "source": [
    "Key(basket:GamerName:\"John\")     Field(product id)     Amount(The number of item you buy)"
   ]
  },
  {
   "cell_type": "markdown",
   "id": "e2f6ff14",
   "metadata": {},
   "source": [
    "### 1.Add item in shopping basket(Create)"
   ]
  },
  {
   "cell_type": "code",
   "execution_count": 3,
   "id": "14bfab92",
   "metadata": {},
   "outputs": [
    {
     "data": {
      "text/plain": [
       "0"
      ]
     },
     "execution_count": 3,
     "metadata": {},
     "output_type": "execute_result"
    }
   ],
   "source": [
    "# Gamer 'John' Add 1 product of 10021, 2 product of 10031, 3 product of 10041, 1 product of 10051\n",
    "r.hset(\"Basket:GamerName:John\",\"10021\",\"1\")\n",
    "r.hset(\"Basket:GamerName:John\",\"10031\",\"2\")\n",
    "r.hset(\"Basket:GamerName:John\",\"10041\",\"3\")\n",
    "r.hset(\"Basket:GamerName:John\",\"10051\",\"1\")"
   ]
  },
  {
   "cell_type": "code",
   "execution_count": 4,
   "id": "cb4736d1",
   "metadata": {},
   "outputs": [
    {
     "data": {
      "text/plain": [
       "0"
      ]
     },
     "execution_count": 4,
     "metadata": {},
     "output_type": "execute_result"
    }
   ],
   "source": [
    "# Gamer 'Ben' Add 5 product of 10031, 7 product of 10091, 3 product of 10021, 2 product of 10061\n",
    "r.hset(\"Basket:GamerName:Ben\",\"10031\",\"5\")\n",
    "r.hset(\"Basket:GamerName:Ben\",\"10091\",\"7\")\n",
    "r.hset(\"Basket:GamerName:Ben\",\"10021\",\"3\")\n",
    "r.hset(\"Basket:GamerName:Ben\",\"10061\",\"2\")"
   ]
  },
  {
   "cell_type": "code",
   "execution_count": 5,
   "id": "0311cede",
   "metadata": {},
   "outputs": [
    {
     "data": {
      "text/plain": [
       "0"
      ]
     },
     "execution_count": 5,
     "metadata": {},
     "output_type": "execute_result"
    }
   ],
   "source": [
    "# Gamer 'Mike' Add 3 product of 10021, 3 product of 10051, 5 product of 10061, 3 product of 10071\n",
    "r.hset(\"Basket:GamerName:Mike\",\"10021\",\"3\")\n",
    "r.hset(\"Basket:GamerName:Mike\",\"10051\",\"3\")\n",
    "r.hset(\"Basket:GamerName:Mike\",\"10061\",\"5\")\n",
    "r.hset(\"Basket:GamerName:Mike\",\"10071\",\"3\")"
   ]
  },
  {
   "cell_type": "code",
   "execution_count": 6,
   "id": "0f397c92",
   "metadata": {},
   "outputs": [
    {
     "data": {
      "text/plain": [
       "0"
      ]
     },
     "execution_count": 6,
     "metadata": {},
     "output_type": "execute_result"
    }
   ],
   "source": [
    "#Add more information in shopping basket database\n",
    "r.hset(\"Basket:GamerName:Sunny\",\"10081\",\"1\")\n",
    "r.hset(\"Basket:GamerName:Tom\",\"10021\",\"5\")\n",
    "r.hset(\"Basket:GamerName:Ken\",\"10001\",\"1\")\n",
    "r.hset(\"Basket:GamerName:Peter\",\"10011\",\"9\")\n",
    "r.hset(\"Basket:GamerName:Tommy\",\"10061\",\"2\")\n",
    "r.hset(\"Basket:GamerName:Kendrick\",\"10036\",\"2\")\n",
    "r.hset(\"Basket:GamerName:Oven\",\"10081\",\"1\")\n",
    "r.hset(\"Basket:GamerName:Iboy\",\"10071\",\"2\")\n",
    "r.hset(\"Basket:GamerName:Susan\",\"10051\",\"1\")"
   ]
  },
  {
   "cell_type": "markdown",
   "id": "bab2252b",
   "metadata": {},
   "source": [
    "##### check the prodcut is added"
   ]
  },
  {
   "cell_type": "code",
   "execution_count": 7,
   "id": "5c94d995",
   "metadata": {},
   "outputs": [
    {
     "data": {
      "text/plain": [
       "b'1'"
      ]
     },
     "execution_count": 7,
     "metadata": {},
     "output_type": "execute_result"
    }
   ],
   "source": [
    "r.hget(\"Basket:GamerName:John\",\"10021\")"
   ]
  },
  {
   "cell_type": "code",
   "execution_count": 8,
   "id": "6758e818",
   "metadata": {},
   "outputs": [
    {
     "data": {
      "text/plain": [
       "b'5'"
      ]
     },
     "execution_count": 8,
     "metadata": {},
     "output_type": "execute_result"
    }
   ],
   "source": [
    "r.hget(\"Basket:GamerName:Ben\",\"10031\")"
   ]
  },
  {
   "cell_type": "code",
   "execution_count": 9,
   "id": "fa4664e5",
   "metadata": {},
   "outputs": [
    {
     "data": {
      "text/plain": [
       "b'3'"
      ]
     },
     "execution_count": 9,
     "metadata": {},
     "output_type": "execute_result"
    }
   ],
   "source": [
    "r.hget(\"Basket:GamerName:Mike\",\"10021\")"
   ]
  },
  {
   "cell_type": "markdown",
   "id": "41e785fe",
   "metadata": {},
   "source": [
    "### 2. Get all the items in one's shopping basket(Retrieve)"
   ]
  },
  {
   "cell_type": "code",
   "execution_count": 10,
   "id": "e1d0e83f",
   "metadata": {},
   "outputs": [
    {
     "data": {
      "text/plain": [
       "{b'10031': b'2', b'10041': b'3', b'10051': b'1', b'10021': b'1'}"
      ]
     },
     "execution_count": 10,
     "metadata": {},
     "output_type": "execute_result"
    }
   ],
   "source": [
    "r.hgetall(\"Basket:GamerName:John\")"
   ]
  },
  {
   "cell_type": "code",
   "execution_count": 11,
   "id": "87d0a80d",
   "metadata": {},
   "outputs": [
    {
     "data": {
      "text/plain": [
       "{b'10031': b'5', b'10091': b'7', b'10021': b'3', b'10061': b'2'}"
      ]
     },
     "execution_count": 11,
     "metadata": {},
     "output_type": "execute_result"
    }
   ],
   "source": [
    "r.hgetall(\"Basket:GamerName:Ben\")"
   ]
  },
  {
   "cell_type": "code",
   "execution_count": 12,
   "id": "1afb4090",
   "metadata": {},
   "outputs": [
    {
     "data": {
      "text/plain": [
       "{b'10021': b'3', b'10051': b'3', b'10061': b'5', b'10071': b'3'}"
      ]
     },
     "execution_count": 12,
     "metadata": {},
     "output_type": "execute_result"
    }
   ],
   "source": [
    "r.hgetall(\"Basket:GamerName:Mike\")"
   ]
  },
  {
   "cell_type": "markdown",
   "id": "e7c12206",
   "metadata": {},
   "source": [
    "### 3.See how many kind of product the gamer have in a basket(Retrieve)"
   ]
  },
  {
   "cell_type": "code",
   "execution_count": 13,
   "id": "fe15b658",
   "metadata": {},
   "outputs": [
    {
     "data": {
      "text/plain": [
       "4"
      ]
     },
     "execution_count": 13,
     "metadata": {},
     "output_type": "execute_result"
    }
   ],
   "source": [
    "r.hlen(\"Basket:GamerName:John\")"
   ]
  },
  {
   "cell_type": "markdown",
   "id": "6e0bca95",
   "metadata": {},
   "source": [
    "### 4. Delete a product from a basket(Delete)"
   ]
  },
  {
   "cell_type": "code",
   "execution_count": 14,
   "id": "aff55b9c",
   "metadata": {},
   "outputs": [
    {
     "data": {
      "text/plain": [
       "1"
      ]
     },
     "execution_count": 14,
     "metadata": {},
     "output_type": "execute_result"
    }
   ],
   "source": [
    "#delete product 10021 from John's basket\n",
    "r.hdel(\"Basket:GamerName:John\",\"10021\")"
   ]
  },
  {
   "cell_type": "code",
   "execution_count": 15,
   "id": "4ed24bdc",
   "metadata": {},
   "outputs": [
    {
     "data": {
      "text/plain": [
       "{b'10031': b'2', b'10041': b'3', b'10051': b'1'}"
      ]
     },
     "execution_count": 15,
     "metadata": {},
     "output_type": "execute_result"
    }
   ],
   "source": [
    "#check that product 10021 was deleted\n",
    "r.hgetall(\"Basket:GamerName:John\")"
   ]
  },
  {
   "cell_type": "markdown",
   "id": "d2cecf76",
   "metadata": {},
   "source": [
    "### 5.Increase and decrease the quantity of products(Update)"
   ]
  },
  {
   "cell_type": "code",
   "execution_count": 16,
   "id": "daa04904",
   "metadata": {},
   "outputs": [
    {
     "data": {
      "text/plain": [
       "4"
      ]
     },
     "execution_count": 16,
     "metadata": {},
     "output_type": "execute_result"
    }
   ],
   "source": [
    "#John buys 3 more product 10051\n",
    "r.hincrby(\"Basket:GamerName:John\",\"10051\",\"3\")"
   ]
  },
  {
   "cell_type": "code",
   "execution_count": 17,
   "id": "851a10c9",
   "metadata": {},
   "outputs": [
    {
     "data": {
      "text/plain": [
       "{b'10031': b'2', b'10041': b'3', b'10051': b'4'}"
      ]
     },
     "execution_count": 17,
     "metadata": {},
     "output_type": "execute_result"
    }
   ],
   "source": [
    "#check 3 product 10051 is added\n",
    "r.hgetall(\"Basket:GamerName:John\")"
   ]
  },
  {
   "cell_type": "code",
   "execution_count": 18,
   "id": "b4ace88c",
   "metadata": {},
   "outputs": [
    {
     "data": {
      "text/plain": [
       "3"
      ]
     },
     "execution_count": 18,
     "metadata": {},
     "output_type": "execute_result"
    }
   ],
   "source": [
    "#John decrease 1 product 10051\n",
    "r.hincrby(\"Basket:GamerName:John\",\"10051\",\"-1\")"
   ]
  },
  {
   "cell_type": "code",
   "execution_count": 19,
   "id": "89506256",
   "metadata": {},
   "outputs": [
    {
     "data": {
      "text/plain": [
       "{b'10031': b'2', b'10041': b'3', b'10051': b'3'}"
      ]
     },
     "execution_count": 19,
     "metadata": {},
     "output_type": "execute_result"
    }
   ],
   "source": [
    "#check 1 product 10051 is added\n",
    "r.hgetall(\"Basket:GamerName:John\")"
   ]
  },
  {
   "cell_type": "markdown",
   "id": "1a874f52",
   "metadata": {},
   "source": [
    "---------------"
   ]
  },
  {
   "cell_type": "markdown",
   "id": "efd55aaa",
   "metadata": {},
   "source": [
    "# ***Social System(set)***"
   ]
  },
  {
   "cell_type": "markdown",
   "id": "85a02643",
   "metadata": {},
   "source": [
    "## We have 2 list in social network, following list and Fans list\n",
    "Following list : Key(Follow:GamerName:John) Value(GamerName)\n",
    "\n",
    "Fans list : Key(Fans:GamerName:John) Value(GamerName)"
   ]
  },
  {
   "cell_type": "markdown",
   "id": "8424bbd7",
   "metadata": {},
   "source": [
    "### 1.follow a gamer(Create)\n",
    "2 step for following\n",
    "\n",
    "1)Add the other person's Username to your following list\n",
    "\n",
    "2)Add your Username to other person's Fans list"
   ]
  },
  {
   "cell_type": "code",
   "execution_count": 20,
   "id": "c9da8107",
   "metadata": {},
   "outputs": [
    {
     "data": {
      "text/plain": [
       "0"
      ]
     },
     "execution_count": 20,
     "metadata": {},
     "output_type": "execute_result"
    }
   ],
   "source": [
    "#Gamer: John\n",
    "# 1)Add the other person's Username to your following list\n",
    "r.sadd(\"Follow:GamerName:John\",\"Ben\")\n",
    "r.sadd(\"Follow:GamerName:John\",\"Mike\")\n",
    "r.sadd(\"Follow:GamerName:John\",\"Tom\")\n",
    "r.sadd(\"Follow:GamerName:John\",\"Dickson\")\n",
    "\n",
    "#2)Add your Username to other person's Fans list\n",
    "r.sadd(\"Fans:GamerName:Ben\",\"John\")\n",
    "r.sadd(\"Fans:GamerName:Mike\",\"John\")\n",
    "r.sadd(\"Fans:GamerName:Tom\",\"John\")\n",
    "r.sadd(\"Fans:GamerName:Dickson\",\"John\")"
   ]
  },
  {
   "cell_type": "code",
   "execution_count": 21,
   "id": "6744eaad",
   "metadata": {},
   "outputs": [
    {
     "data": {
      "text/plain": [
       "0"
      ]
     },
     "execution_count": 21,
     "metadata": {},
     "output_type": "execute_result"
    }
   ],
   "source": [
    "#Gamer: Mike\n",
    "# 1)Add the other person's Username to your following list\n",
    "r.sadd(\"Follow:GamerName:Mike\",\"Ben\")\n",
    "r.sadd(\"Follow:GamerName:Mike\",\"John\")\n",
    "r.sadd(\"Follow:GamerName:Mike\",\"Tom\")\n",
    "r.sadd(\"Follow:GamerName:Mike\",\"Dickson\")\n",
    "\n",
    "#2)Add your Username to other person's Fans list\n",
    "r.sadd(\"Fans:GamerName:Ben\",\"Mike\")\n",
    "r.sadd(\"Fans:GamerName:John\",\"Mike\")\n",
    "r.sadd(\"Fans:GamerName:Tom\",\"Mike\")\n",
    "r.sadd(\"Fans:GamerName:Dickson\",\"Mike\")"
   ]
  },
  {
   "cell_type": "code",
   "execution_count": 22,
   "id": "79985219",
   "metadata": {},
   "outputs": [
    {
     "data": {
      "text/plain": [
       "0"
      ]
     },
     "execution_count": 22,
     "metadata": {},
     "output_type": "execute_result"
    }
   ],
   "source": [
    "#Gamer: Dickson\n",
    "# 1)Add the other person's Username to your following list\n",
    "r.sadd(\"Follow:Dickson\",\"Ben\")\n",
    "r.sadd(\"Follow:Dickson\",\"John\")\n",
    "r.sadd(\"Follow:Dickson\",\"Tom\")\n",
    "r.sadd(\"Follow:Dickson\",\"Mike\")\n",
    "\n",
    "#2)Add your Username to other person's Fans list\n",
    "r.sadd(\"Fans:Ben\",\"Dickson\")\n",
    "r.sadd(\"Fans:John\",\"Dickson\")\n",
    "r.sadd(\"Fans:Tom\",\"Dickson\")\n",
    "r.sadd(\"Fans:Mike\",\"Dickson\")"
   ]
  },
  {
   "cell_type": "code",
   "execution_count": 23,
   "id": "3704c80c",
   "metadata": {},
   "outputs": [
    {
     "data": {
      "text/plain": [
       "0"
      ]
     },
     "execution_count": 23,
     "metadata": {},
     "output_type": "execute_result"
    }
   ],
   "source": [
    "#Gamer: Joker\n",
    "# 1)Add the other person's Username to your following list\n",
    "r.sadd(\"Follow:Joker\",\"Ben\")\n",
    "r.sadd(\"Follow:Joker\",\"John\")\n",
    "r.sadd(\"Follow:Joker\",\"Tom\")\n",
    "r.sadd(\"Follow:Joker\",\"Mike\")\n",
    "\n",
    "#2)Add your Username to other person's Fans list\n",
    "r.sadd(\"Fans:Ben\",\"Joker\")\n",
    "r.sadd(\"Fans:John\",\"Joker\")\n",
    "r.sadd(\"Fans:Tom\",\"Joker\")\n",
    "r.sadd(\"Fans:Mike\",\"Joker\")"
   ]
  },
  {
   "cell_type": "markdown",
   "id": "e93ac30c",
   "metadata": {},
   "source": [
    "### 2. follow a new gamer(Update)"
   ]
  },
  {
   "cell_type": "code",
   "execution_count": 24,
   "id": "4d1f938a",
   "metadata": {},
   "outputs": [
    {
     "data": {
      "text/plain": [
       "1"
      ]
     },
     "execution_count": 24,
     "metadata": {},
     "output_type": "execute_result"
    }
   ],
   "source": [
    "#John follow a new gamer call Danny\n",
    "# 1)Add the Danny into John's following list\n",
    "r.sadd(\"Follow:John\",\"Danny\")\n",
    "\n",
    "#2)Add John to Danny's Fans list\n",
    "r.sadd(\"Fans:GamerName:Danny\",\"John\")"
   ]
  },
  {
   "cell_type": "markdown",
   "id": "c6ba3b67",
   "metadata": {},
   "source": [
    "### 3.unfollow a gamer(Delete)\n",
    "2 step for unfollowing\n",
    "\n",
    "1)remove the other person's Username from your following list\n",
    "\n",
    "2)remove your Username from other person's Fans list"
   ]
  },
  {
   "cell_type": "code",
   "execution_count": 25,
   "id": "e531f0ac",
   "metadata": {},
   "outputs": [
    {
     "data": {
      "text/plain": [
       "1"
      ]
     },
     "execution_count": 25,
     "metadata": {},
     "output_type": "execute_result"
    }
   ],
   "source": [
    "#1)remove the 'Ben' from John's following list\n",
    "r.srem(\"Follow:GamerName:John\",\"Ben\")"
   ]
  },
  {
   "cell_type": "code",
   "execution_count": 26,
   "id": "22016d3a",
   "metadata": {},
   "outputs": [
    {
     "data": {
      "text/plain": [
       "1"
      ]
     },
     "execution_count": 26,
     "metadata": {},
     "output_type": "execute_result"
    }
   ],
   "source": [
    "#2)remove 'john' from Ben's Fans list\n",
    "r.srem(\"Fans:GamerName:Ben\",\"John\")"
   ]
  },
  {
   "cell_type": "markdown",
   "id": "45a6684c",
   "metadata": {},
   "source": [
    "### 4.Check one's following list(Retrieve)\n"
   ]
  },
  {
   "cell_type": "code",
   "execution_count": 27,
   "id": "78098dbc",
   "metadata": {},
   "outputs": [
    {
     "data": {
      "text/plain": [
       "{b'Dickson', b'Mike', b'Tom'}"
      ]
     },
     "execution_count": 27,
     "metadata": {},
     "output_type": "execute_result"
    }
   ],
   "source": [
    "#Check John's following list\n",
    "r.smembers(\"Follow:GamerName:John\")"
   ]
  },
  {
   "cell_type": "markdown",
   "id": "6863d9fb",
   "metadata": {},
   "source": [
    "### 5.Check one's Fans list(Retrieve)"
   ]
  },
  {
   "cell_type": "code",
   "execution_count": 28,
   "id": "c3c72fb0",
   "metadata": {},
   "outputs": [
    {
     "data": {
      "text/plain": [
       "{b'Mike'}"
      ]
     },
     "execution_count": 28,
     "metadata": {},
     "output_type": "execute_result"
    }
   ],
   "source": [
    "#Check Ben's Fans list\n",
    "r.smembers(\"Fans:GamerName:Ben\")"
   ]
  },
  {
   "cell_type": "markdown",
   "id": "bf9d7a53",
   "metadata": {},
   "source": [
    "### 6.Relationship(Retrieve)"
   ]
  },
  {
   "cell_type": "markdown",
   "id": "45545af0",
   "metadata": {},
   "source": [
    "#### 1) Unilateral following\n",
    "\n",
    "I follow him, but he did not follow me\n",
    "\n",
    "We can check that by "
   ]
  },
  {
   "cell_type": "code",
   "execution_count": 29,
   "id": "c81d415f",
   "metadata": {},
   "outputs": [
    {
     "data": {
      "text/plain": [
       "False"
      ]
     },
     "execution_count": 29,
     "metadata": {},
     "output_type": "execute_result"
    }
   ],
   "source": [
    "#Check that is John following ben?\n",
    "r.sismember(\"Follow:GamerName:John\",\"Ben\")"
   ]
  },
  {
   "cell_type": "code",
   "execution_count": 30,
   "id": "9ec957de",
   "metadata": {},
   "outputs": [
    {
     "data": {
      "text/plain": [
       "False"
      ]
     },
     "execution_count": 30,
     "metadata": {},
     "output_type": "execute_result"
    }
   ],
   "source": [
    "#Check that is Ben following John?\n",
    "r.sismember(\"Follow:GamerName:Ben\",\"John\")"
   ]
  },
  {
   "cell_type": "code",
   "execution_count": 31,
   "id": "7b8edb6c",
   "metadata": {},
   "outputs": [],
   "source": [
    "# If First code return True, Second return False, means 'John' is unilateral following 'Ben'"
   ]
  },
  {
   "cell_type": "markdown",
   "id": "1b5ef087",
   "metadata": {},
   "source": [
    "#### 2) Unilateral fans\n",
    "He follow me, but I did not follow him.\n",
    "\n",
    "We can check that by"
   ]
  },
  {
   "cell_type": "code",
   "execution_count": 32,
   "id": "86ee20f5",
   "metadata": {},
   "outputs": [
    {
     "data": {
      "text/plain": [
       "False"
      ]
     },
     "execution_count": 32,
     "metadata": {},
     "output_type": "execute_result"
    }
   ],
   "source": [
    "#Check that is ben in John's fans list?\n",
    "r.sismember(\"Fans:GamerName:Ben\",\"John\")"
   ]
  },
  {
   "cell_type": "code",
   "execution_count": 33,
   "id": "a3632e69",
   "metadata": {},
   "outputs": [
    {
     "data": {
      "text/plain": [
       "False"
      ]
     },
     "execution_count": 33,
     "metadata": {},
     "output_type": "execute_result"
    }
   ],
   "source": [
    "#Check that is John in ben's fans list?\n",
    "r.sismember(\"Fans:GamerName:John\",\"Ben\")"
   ]
  },
  {
   "cell_type": "code",
   "execution_count": 34,
   "id": "e338c33d",
   "metadata": {},
   "outputs": [],
   "source": [
    "# If First code return True, Second return False, means 'John' is unilateral fans of 'Ben'"
   ]
  },
  {
   "cell_type": "markdown",
   "id": "7013e65f",
   "metadata": {},
   "source": [
    "#### 3)mutual following\n",
    "both following each other"
   ]
  },
  {
   "cell_type": "code",
   "execution_count": 35,
   "id": "fa30c027",
   "metadata": {},
   "outputs": [
    {
     "data": {
      "text/plain": [
       "True"
      ]
     },
     "execution_count": 35,
     "metadata": {},
     "output_type": "execute_result"
    }
   ],
   "source": [
    "#Check that is John following ben?\n",
    "r.sismember(\"Follow:GamerName:John\",\"Mike\")"
   ]
  },
  {
   "cell_type": "code",
   "execution_count": 36,
   "id": "ce9bb101",
   "metadata": {},
   "outputs": [
    {
     "data": {
      "text/plain": [
       "True"
      ]
     },
     "execution_count": 36,
     "metadata": {},
     "output_type": "execute_result"
    }
   ],
   "source": [
    "#Check that is Ben following John?\n",
    "r.sismember(\"Follow:GamerName:Mike\",\"John\")"
   ]
  },
  {
   "cell_type": "code",
   "execution_count": 37,
   "id": "76fc97ec",
   "metadata": {},
   "outputs": [],
   "source": [
    "#If both return true, means they are mutual following each other."
   ]
  },
  {
   "cell_type": "markdown",
   "id": "e4be2b8e",
   "metadata": {},
   "source": [
    "### 7.Check  the amout of fans and following(Retrieve)"
   ]
  },
  {
   "cell_type": "code",
   "execution_count": 38,
   "id": "3305daa5",
   "metadata": {},
   "outputs": [
    {
     "data": {
      "text/plain": [
       "1"
      ]
     },
     "execution_count": 38,
     "metadata": {},
     "output_type": "execute_result"
    }
   ],
   "source": [
    "#Check how many gamers that john are following\n",
    "r.scard(\"Follow:John\")"
   ]
  },
  {
   "cell_type": "code",
   "execution_count": 39,
   "id": "84a21d3a",
   "metadata": {},
   "outputs": [
    {
     "data": {
      "text/plain": [
       "2"
      ]
     },
     "execution_count": 39,
     "metadata": {},
     "output_type": "execute_result"
    }
   ],
   "source": [
    "#Check how many fans John has.\n",
    "r.scard(\"Fans:John\")"
   ]
  },
  {
   "cell_type": "markdown",
   "id": "54a5cb05",
   "metadata": {},
   "source": [
    "### 8.Check  all mutual following, mutual fans(Retrieve)"
   ]
  },
  {
   "cell_type": "code",
   "execution_count": 40,
   "id": "fb9d4cba",
   "metadata": {},
   "outputs": [
    {
     "data": {
      "text/plain": [
       "set()"
      ]
     },
     "execution_count": 40,
     "metadata": {},
     "output_type": "execute_result"
    }
   ],
   "source": [
    "#list the gamers were both followed by John and Mike\n",
    "r.sinter(\"Follow:John\",\"Follow:Mike\")"
   ]
  },
  {
   "cell_type": "code",
   "execution_count": 41,
   "id": "2e9159d1",
   "metadata": {},
   "outputs": [],
   "source": [
    "# no one was both followed by John and Mike"
   ]
  },
  {
   "cell_type": "code",
   "execution_count": 42,
   "id": "ccde8661",
   "metadata": {},
   "outputs": [
    {
     "data": {
      "text/plain": [
       "{b'Dickson', b'Joker'}"
      ]
     },
     "execution_count": 42,
     "metadata": {},
     "output_type": "execute_result"
    }
   ],
   "source": [
    "#list the gamers who are following John and Mike\n",
    "r.sinter(\"Fans:John\",\"Fans:Mike\")"
   ]
  },
  {
   "cell_type": "markdown",
   "id": "d67d8c5e",
   "metadata": {},
   "source": [
    "-------"
   ]
  },
  {
   "cell_type": "markdown",
   "id": "9b158d18",
   "metadata": {},
   "source": [
    "# Leadershipborad(sorted set)\n",
    "Key(Score:Gamername:\"John\") Value(Score)"
   ]
  },
  {
   "cell_type": "markdown",
   "id": "ca83b52b",
   "metadata": {},
   "source": [
    "### 1.Set Gamers' Score(Create)"
   ]
  },
  {
   "cell_type": "code",
   "execution_count": 43,
   "id": "b356fef5",
   "metadata": {},
   "outputs": [
    {
     "data": {
      "text/plain": [
       "1"
      ]
     },
     "execution_count": 43,
     "metadata": {},
     "output_type": "execute_result"
    }
   ],
   "source": [
    "#Ten gamers scores are set below,\n",
    "#overwriting the previous score if the player score already exists.\n",
    "r.zadd(\"lb:GamerName\", \n",
    "            {\"John\": 103,\n",
    "             \"Mike\": 95, \n",
    "             \"Tom\": 774, \n",
    "             \"Dickson\": 888, \n",
    "             \"Ben\": 695,\n",
    "             \"Lee\": 34,\n",
    "             \"Alan\": 1907,\n",
    "             \"Sally\": 69,\n",
    "             \"Wendy\": 837,\n",
    "             \"Clay\": 820}\n",
    "             )"
   ]
  },
  {
   "cell_type": "markdown",
   "id": "d5310986",
   "metadata": {},
   "source": [
    "### 2.Check Gamers' Score(Retrieve)"
   ]
  },
  {
   "cell_type": "code",
   "execution_count": 44,
   "id": "02d09235",
   "metadata": {},
   "outputs": [
    {
     "data": {
      "text/plain": [
       "103.0"
      ]
     },
     "execution_count": 44,
     "metadata": {},
     "output_type": "execute_result"
    }
   ],
   "source": [
    "#check GamerName:John's Score\n",
    "r.zscore(\"lb:GamerName\",\"John\")"
   ]
  },
  {
   "cell_type": "markdown",
   "id": "5ef7644f",
   "metadata": {},
   "source": [
    "### 3.View the leaderboard by rank(Retrieve)\n"
   ]
  },
  {
   "cell_type": "code",
   "execution_count": 45,
   "id": "3c3ff947",
   "metadata": {},
   "outputs": [
    {
     "data": {
      "text/plain": [
       "[(b'Alan', 1907.0),\n",
       " (b'Dickson', 888.0),\n",
       " (b'Wendy', 837.0),\n",
       " (b'Clay', 820.0),\n",
       " (b'Tom', 774.0),\n",
       " (b'Ben', 695.0),\n",
       " (b'John', 103.0),\n",
       " (b'Mike', 95.0),\n",
       " (b'Sally', 69.0),\n",
       " (b'Lee', 34.0)]"
      ]
     },
     "execution_count": 45,
     "metadata": {},
     "output_type": "execute_result"
    }
   ],
   "source": [
    "### Check the ranking of all gamers\n",
    "r.zrevrange(\"lb:GamerName\",0, -1, \"WITHSCORES\")"
   ]
  },
  {
   "cell_type": "code",
   "execution_count": 46,
   "id": "bc24808c",
   "metadata": {},
   "outputs": [
    {
     "data": {
      "text/plain": [
       "[(b'Wendy', 837.0)]"
      ]
     },
     "execution_count": 46,
     "metadata": {},
     "output_type": "execute_result"
    }
   ],
   "source": [
    "### Check the gamer who rank in 3rd\n",
    "r.zrevrange(\"lb:GamerName\", 2, 2, \"WITHSCORES\")"
   ]
  },
  {
   "cell_type": "markdown",
   "id": "efe460d9",
   "metadata": {},
   "source": [
    "### 4.Check Gamer's ranking using their Gamername(Retrieve)"
   ]
  },
  {
   "cell_type": "code",
   "execution_count": 47,
   "id": "7843c23d",
   "metadata": {},
   "outputs": [
    {
     "data": {
      "text/plain": [
       "6"
      ]
     },
     "execution_count": 47,
     "metadata": {},
     "output_type": "execute_result"
    }
   ],
   "source": [
    "#Check John's ranking\n",
    "r.zrevrank(\"lb:GamerName\", \"John\")"
   ]
  },
  {
   "cell_type": "markdown",
   "id": "de017469",
   "metadata": {},
   "source": [
    "### 5.Change Gamer's Score(Update)"
   ]
  },
  {
   "cell_type": "code",
   "execution_count": 48,
   "id": "02f507f3",
   "metadata": {},
   "outputs": [
    {
     "data": {
      "text/plain": [
       "195.0"
      ]
     },
     "execution_count": 48,
     "metadata": {},
     "output_type": "execute_result"
    }
   ],
   "source": [
    "#Increase Mike's score by 100 to rank 6 then surpassing John.\n",
    "r.zincrby(\"lb:GamerName\", 100, \"Mike\")"
   ]
  },
  {
   "cell_type": "code",
   "execution_count": 49,
   "id": "ca0b7cae",
   "metadata": {},
   "outputs": [
    {
     "data": {
      "text/plain": [
       "[(b'Ben', 695.0),\n",
       " (b'Mike', 195.0),\n",
       " (b'John', 103.0),\n",
       " (b'Sally', 69.0),\n",
       " (b'Lee', 34.0)]"
      ]
     },
     "execution_count": 49,
     "metadata": {},
     "output_type": "execute_result"
    }
   ],
   "source": [
    "#Check the Ranking,\n",
    "r.zrevrange(\"lb:GamerName\",5, -1, \"WITHSCORES\")"
   ]
  },
  {
   "cell_type": "code",
   "execution_count": 50,
   "id": "e8584114",
   "metadata": {},
   "outputs": [],
   "source": [
    "#Mike's score is 195 now and he rank 6. "
   ]
  },
  {
   "cell_type": "markdown",
   "id": "2b1fcd78",
   "metadata": {},
   "source": [
    "### 6.Remove a Gamer from Leaderboard(Delete)"
   ]
  },
  {
   "cell_type": "code",
   "execution_count": 51,
   "id": "86abd09f",
   "metadata": {},
   "outputs": [
    {
     "data": {
      "text/plain": [
       "1"
      ]
     },
     "execution_count": 51,
     "metadata": {},
     "output_type": "execute_result"
    }
   ],
   "source": [
    "#Remove Lee from leaderboard\n",
    "r.zrem(\"lb:GamerName\", \"Lee\")"
   ]
  },
  {
   "cell_type": "code",
   "execution_count": 52,
   "id": "d24ec700",
   "metadata": {},
   "outputs": [
    {
     "data": {
      "text/plain": [
       "[(b'Alan', 1907.0),\n",
       " (b'Dickson', 888.0),\n",
       " (b'Wendy', 837.0),\n",
       " (b'Clay', 820.0),\n",
       " (b'Tom', 774.0),\n",
       " (b'Ben', 695.0),\n",
       " (b'Mike', 195.0),\n",
       " (b'John', 103.0),\n",
       " (b'Sally', 69.0)]"
      ]
     },
     "execution_count": 52,
     "metadata": {},
     "output_type": "execute_result"
    }
   ],
   "source": [
    "#Check Lee was already removed\n",
    "r.zrevrange(\"lb:GamerName\",0, -1, \"WITHSCORES\")"
   ]
  },
  {
   "cell_type": "markdown",
   "id": "d61a89f2",
   "metadata": {},
   "source": [
    "### 7.Check the top N and Last N players in the rankings(Retrieve)"
   ]
  },
  {
   "cell_type": "code",
   "execution_count": 53,
   "id": "666c7e23",
   "metadata": {},
   "outputs": [
    {
     "data": {
      "text/plain": [
       "[(b'Alan', 1907.0),\n",
       " (b'Dickson', 888.0),\n",
       " (b'Wendy', 837.0),\n",
       " (b'Clay', 820.0),\n",
       " (b'Tom', 774.0)]"
      ]
     },
     "execution_count": 53,
     "metadata": {},
     "output_type": "execute_result"
    }
   ],
   "source": [
    "#Check top 5 players in the ranking\n",
    "r.zrevrange(\"lb:GamerName\",0, 4, \"WITHSCORES\")"
   ]
  },
  {
   "cell_type": "code",
   "execution_count": 54,
   "id": "daf93eb6",
   "metadata": {},
   "outputs": [
    {
     "data": {
      "text/plain": [
       "[(b'Tom', 774.0),\n",
       " (b'Ben', 695.0),\n",
       " (b'Mike', 195.0),\n",
       " (b'John', 103.0),\n",
       " (b'Sally', 69.0)]"
      ]
     },
     "execution_count": 54,
     "metadata": {},
     "output_type": "execute_result"
    }
   ],
   "source": [
    "#Check last 5 players in the ranking\n",
    "r.zrevrange(\"lb:GamerName\",-5, -1, \"WITHSCORES\")"
   ]
  },
  {
   "cell_type": "markdown",
   "id": "b2ac3d19",
   "metadata": {},
   "source": [
    "# Save data"
   ]
  },
  {
   "cell_type": "code",
   "execution_count": 55,
   "id": "724c058a",
   "metadata": {},
   "outputs": [
    {
     "data": {
      "text/plain": [
       "28"
      ]
     },
     "execution_count": 55,
     "metadata": {},
     "output_type": "execute_result"
    }
   ],
   "source": [
    "r.dbsize()"
   ]
  },
  {
   "cell_type": "code",
   "execution_count": 56,
   "id": "02341293",
   "metadata": {},
   "outputs": [
    {
     "data": {
      "text/plain": [
       "True"
      ]
     },
     "execution_count": 56,
     "metadata": {},
     "output_type": "execute_result"
    }
   ],
   "source": [
    "r.bgsave()"
   ]
  },
  {
   "cell_type": "markdown",
   "id": "d851ad08",
   "metadata": {},
   "source": [
    "# Novelty Code"
   ]
  },
  {
   "cell_type": "code",
   "execution_count": 57,
   "id": "f5d14c38",
   "metadata": {},
   "outputs": [
    {
     "data": {
      "text/plain": [
       "<bound method Redis.zrevrank of Redis<ConnectionPool<Connection<host=localhost,port=6379,db=10>>>>"
      ]
     },
     "execution_count": 57,
     "metadata": {},
     "output_type": "execute_result"
    }
   ],
   "source": [
    "#Shopping basket(hash)\n",
    "r.hlen\n",
    "\n",
    "#Social Network(set)\n",
    "r.srem\n",
    "r.sismember\n",
    "r.scard\n",
    "r.sinter\n",
    "\n",
    "#Leadershipborad(sorted set)\n",
    "r.zscore\n",
    "r.zrevrange\n",
    "r.zrevrank"
   ]
  },
  {
   "cell_type": "code",
   "execution_count": null,
   "id": "77eb00f1",
   "metadata": {},
   "outputs": [],
   "source": []
  }
 ],
 "metadata": {
  "kernelspec": {
   "display_name": "Python 3 (ipykernel)",
   "language": "python",
   "name": "python3"
  },
  "language_info": {
   "codemirror_mode": {
    "name": "ipython",
    "version": 3
   },
   "file_extension": ".py",
   "mimetype": "text/x-python",
   "name": "python",
   "nbconvert_exporter": "python",
   "pygments_lexer": "ipython3",
   "version": "3.9.7"
  }
 },
 "nbformat": 4,
 "nbformat_minor": 5
}
